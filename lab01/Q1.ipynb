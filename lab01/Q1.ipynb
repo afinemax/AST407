{
 "cells": [
  {
   "cell_type": "markdown",
   "id": "710beb18",
   "metadata": {},
   "source": [
    "# AST326 lab01\n",
    "### Maxwell Fine 1004714400"
   ]
  },
  {
   "cell_type": "markdown",
   "id": "4ace9368",
   "metadata": {},
   "source": [
    "## Q1A: \n",
    "\n",
    "Rearrange the gravitational force law predicted by general relativity (aproximated) into one that can be numerically intergrated\n",
    "\n",
    "$\\vec{F}_{g} \\approx \\frac{-GM_{\\odot}M_{p}}{r^{3}} \\left( 1 + \\frac{\\alpha}{r^{2}} \\right)\n",
    "\\left( x\\hat{x} + y\\hat{y} \\right)$ \n",
    "\n",
    "\n",
    "### Answer:\n",
    "\n",
    "$\\frac{dv_{x}}{dt} = \\frac{-GM_{\\odot}M_{p}}{r^{3}} \\left( 1 + \\frac{\\alpha}{r^{2}} \\right)x$\n",
    "\n",
    "$\\frac{dv_{y}}{dt} = \\frac{-GM_{\\odot}M_{p}}{r^{3}} \\left( 1 + \\frac{\\alpha}{r^{2}} \\right)y$\n",
    "\n",
    "$\\frac{dx}{dt} = v_{x}$\n",
    "\n",
    "$\\frac{dy}{dt} = v_{y}$\n",
    "\n"
   ]
  },
  {
   "cell_type": "markdown",
   "id": "6939d226",
   "metadata": {},
   "source": [
    "## Q1B:\n",
    "\n",
    "Write a “pseudocode” for\n",
    "a program that integrates your equations to calculate the position and velocity of the planet as a function of time under the\n",
    "Newtonian gravity force. The output of your code should include\n",
    "graphs of the components of velocity as a function of time and a\n",
    "plot of the orbit (x vs. y) in space."
   ]
  },
  {
   "cell_type": "markdown",
   "id": "8202b7a3",
   "metadata": {},
   "source": [
    "### define constants\n",
    "* define any universal constants of the cosmos, and which are needed\n",
    "\n",
    "\n",
    "### force gravity function\n",
    "* a function that takes in the x, y position and returns the x and y componet for force\n",
    "\n",
    "### intergrator function:\n",
    "* a function to numerically integrate the equations \n",
    "* inputs inital condictions and timestep\n",
    "\n",
    "* outputs arrays of $x$, $y$, $v_x$ and $v_y$\n",
    "\n",
    "\n",
    "### orbit plotting function\n",
    "* a plotting function for orbits\n",
    "* takes in sets of positon and velocties for planets, and associated labels\n",
    "* uses matplotlib.pyplot to plot the orbit, set color and label\n",
    "* produce a 'plt.plot' style figure\n",
    "* set fontsize, and adjust colors\n",
    "* save figure as a pdf\n",
    "\n",
    "### velocity componet function\n",
    "* plotting function for velocity componets of orbits in terms of $\\hat{x}$, $\\hat{y}$\n",
    "* takes in sets of positon and velocties for planets, and associated labels\n",
    "* produce a vector field style plot\n",
    "* set fontsize, and adjust colors\n",
    "* save figure as a pdf\n",
    "\n",
    "### wrapper function\n",
    "* function that uses the intergrator, and the 2 plotting functions to both solve and plot\n",
    "* takes in sets of inital conditions corresponding to the sun, planets and any \\*\\*kargs for plotting\n",
    "* run a loop over n planets\n",
    "* for the nth planet produce the numerical solutions\n",
    "* collect numerical solutions and feed into plotting functions\n",
    "* outputs graphs of the components of velocity as a function of time and a plot of the orbit (x vs. y) in space\n"
   ]
  },
  {
   "cell_type": "markdown",
   "id": "f0ed70a5",
   "metadata": {},
   "source": [
    "## Q1C:\n",
    "\n",
    "Now write a real python code from your pseudocode. We will\n",
    "assume the planet is Mercury.\n",
    "\n",
    "Initial Conditions:\n",
    "\n",
    "$x = 0.47$ AU,   \n",
    "\n",
    "$v_x = 0.0$ AU/yr,  \n",
    "\n",
    "$y = 0.0$ AU,  \n",
    "\n",
    "$v_y = 8.17$ AU/yr,  \n",
    "\n",
    "Timestep: \n",
    "$\\Delta T = 0.0001$ yr,  \n",
    "\n",
    "integrate for 1 year\n",
    "Check if angular momentum is conserved from the beginning to the end\n",
    "of the orbit. You should see an elliptical orbit.\n"
   ]
  },
  {
   "cell_type": "markdown",
   "id": "4e368778",
   "metadata": {},
   "source": [
    "### Euler-Cromer Method\n",
    "\n",
    "\n",
    " Position is:  \n",
    " $x_{i+1} = x_i + v_{x,i+1} \\Delta t$,  \n",
    "\n",
    " $y_{i+1} = x_i + v_{y,i+1} \\Delta t$,\n",
    " \n",
    " Velocity is:\n",
    " \n",
    " $v_{x,i+1} = x_i + F_g(x) \\Delta t$,\n",
    " \n",
    " $v_{y,i+1} = x_i + F_g(y) \\Delta t$,"
   ]
  },
  {
   "cell_type": "code",
   "execution_count": 105,
   "id": "279e7034",
   "metadata": {},
   "outputs": [],
   "source": [
    "# imports\n",
    "import numpy as np\n",
    "import matplotlib.pyplot as plt\n",
    "G_au = 39.5 # for AU, solar mass and year system\n",
    "m_sun = 2.0*1e30 #kg\n",
    "G = 6.67*1e-11 # SI units\n",
    "Au = 1.496*1e11 #m\n",
    "m_p =1\n",
    "\n",
    "def gr_2b_g_acc(x, y, m_p, G=6.67*1e-11, alpha=0, m_sun=2.0*1e30):\n",
    "    '''Calculates the x, and y componets of GR corrected \n",
    "    Newtonion gravitional accerlation around the sun\n",
    "    \n",
    "    Args:\n",
    "    x: float, in m\n",
    "       positioin in the x direction\n",
    "       \n",
    "    y: float, in m\n",
    "       position in the y direction\n",
    "       \n",
    "    m_p: float, in kg\n",
    "         mass of planet / orbiting body\n",
    "       \n",
    "    **Kargs\n",
    "    G: float, \n",
    "       G constant to use, default is SI units\n",
    "    \n",
    "    alpha: float\n",
    "           value of alpha to use in correction for GR, default is 0\n",
    "    \n",
    "    M_sun: float\n",
    "           Mass of the sun / central body\n",
    "           \n",
    "    Returns:\n",
    "    ax, ay: array-like\n",
    "            x, and y componets of the accerlation\n",
    "    \n",
    "    '''\n",
    "    \n",
    "    # calculate magnitude of r\n",
    "    r = np.sqrt(x**2 + y**2)\n",
    "    \n",
    "    # calculate force componets\n",
    "    ax = -1*(G*m_sun) / (r**3) * ( 1 + alpha/r**2) * (x)\n",
    "    ay = -1*(G*m_sun) / (r**3) * ( 1 + alpha/r**2) * (y)\n",
    "    \n",
    "    return ax, ay\n",
    "\n",
    "\n",
    "def fg_solver(xi, yi, vxi, vyi,timestep=0.0001, int_time=1.):\n",
    "    '''Numerically solves the 2 body problem\n",
    "     using the GR correction for Newtonion gravity.\n",
    "     Uses the The “Euler-Cromer” method.\n",
    "     \n",
    "     Args:\n",
    "     xi: float, in AU\n",
    "         inital positon in the x direction\n",
    "         \n",
    "     yi: float, in AU\n",
    "         inital positon in the y direction\n",
    "    \n",
    "     vxi: float, in AU/year\n",
    "          x componet of the inital velocilty\n",
    "    \n",
    "     vyi: float, in AU/year\n",
    "          y componet of the inital velocity\n",
    "\n",
    "\n",
    "    **Args:\n",
    "    timestep: float, in years\n",
    "              timestep to use for numerical solution, default is 0.0001\n",
    "              \n",
    "    int_time: float, in Earth years\n",
    "              integration time for solution, IE how long to solve for\n",
    "    \n",
    "    \n",
    "    Returns:\n",
    "    x_arr, y_arr, vx_arr, vy_arr\n",
    "    \n",
    "    i_arr: array-like, float\n",
    "           array of the ith direction \n",
    "           \n",
    "    vi_arr: array-like, float\n",
    "            array of the ith direction's velocity\n",
    "           \n",
    "    '''\n",
    "    \n",
    "    # initalize values\n",
    "    n_steps = int(int_time/timestep) # how many timesteps between 0 and end\n",
    "    print('n_steps ', n_steps)\n",
    "    x_arr = np.empty((n_steps+1),dtype=float)\n",
    "    y_arr = np.empty((n_steps+1),dtype=float)\n",
    "    \n",
    "    # vel should have n-1 steps # maybe its the otherway around\n",
    "    vx_arr = np.empty((n_steps+1),dtype=float)\n",
    "    vy_arr = np.empty((n_steps+1),dtype=float)\n",
    "\n",
    "    \n",
    "    # Force\n",
    "    ax_arr = np.empty((n_steps+1),dtype=float)\n",
    "    ay_arr = np.empty((n_steps+1),dtype=float)\n",
    "    \n",
    "    # apply inital conditions, and convert to SI units\n",
    "    x_arr[0] = xi * Au # in m\n",
    "    y_arr[0] = yi * Au # in m\n",
    "    vx_arr[0] = vxi * Au/ 365*24*60*60 # in m/s\n",
    "    vy_arr[0] = vyi * Au/ 365*24*60*60 # in m/s\n",
    "    #print('n_steps ', nsteps)\n",
    "    \n",
    "    # numeric integration\n",
    "    for i in range(n_steps-1):\n",
    "        \n",
    "        # how should we be calculating acc?\n",
    "        \n",
    "        # Calculate velocity for i+1\n",
    "        vx_arr[i+1] = vx_arr[i] + ax_arr[i+1] * timestep\n",
    "        vy_arr[i+1] = vy_arr[i] + ay_arr[i+1] * timestep\n",
    "        \n",
    "        # Calculate Positon for i+1\n",
    "        x_arr[i+1] = x_arr[i] +vx_arr[i+1] * timestep\n",
    "        y_arr[i+1] = y_arr[i] +vy_arr[i+1] * timestep\n",
    "        \n",
    "        \n",
    "        # Calculate Accerlation for i+1\n",
    "        ax_arr[i+1], ay_arr[i+1] = gr_2b_g_acc(x_arr[i], y_arr[i],\n",
    "                        m_p, G=6.67*1e-11, alpha=0, m_sun=2.0*1e30)\n",
    "        \n",
    "        \n",
    "        percent = (i /n_steps) * 100\n",
    "        if percent % 10 == 0:\n",
    "            print('percent is ', percent, ' r is ', np.sqrt(x_arr[i]**2 + y_arr[i]**2)/Au)\n",
    "            print('percent is ', percent, 'ay is ', ay_arr[i]/Au* (365*24*60*60 )**2)\n",
    "            print('\\n')\n",
    "    return x_arr/Au, y_arr/Au, vx_arr/Au* 365*24*60*60, vy_arr/Au* 365*24*60*60\n",
    "        \n",
    "        \n"
   ]
  },
  {
   "cell_type": "code",
   "execution_count": 106,
   "id": "1200bc4b",
   "metadata": {
    "scrolled": false
   },
   "outputs": [
    {
     "name": "stdout",
     "output_type": "stream",
     "text": [
      "n_steps  10000\n",
      "percent is  0.0  r is  0.47\n",
      "percent is  0.0 ay is  4.594195600916334e-306\n",
      "\n",
      "\n",
      "percent is  10.0  r is  nan\n",
      "percent is  10.0 ay is  nan\n",
      "\n",
      "\n",
      "percent is  20.0  r is  nan\n",
      "percent is  20.0 ay is  nan\n",
      "\n",
      "\n",
      "percent is  30.0  r is  nan\n",
      "percent is  30.0 ay is  nan\n",
      "\n",
      "\n",
      "percent is  40.0  r is  nan\n",
      "percent is  40.0 ay is  nan\n",
      "\n",
      "\n",
      "percent is  50.0  r is  nan\n",
      "percent is  50.0 ay is  nan\n",
      "\n",
      "\n",
      "percent is  60.0  r is  nan\n",
      "percent is  60.0 ay is  nan\n",
      "\n",
      "\n",
      "percent is  70.0  r is  nan\n",
      "percent is  70.0 ay is  nan\n",
      "\n",
      "\n",
      "percent is  80.0  r is  nan\n",
      "percent is  80.0 ay is  nan\n",
      "\n",
      "\n",
      "percent is  90.0  r is  nan\n",
      "percent is  90.0 ay is  nan\n",
      "\n",
      "\n"
     ]
    }
   ],
   "source": [
    "# ay seems to be broken\n",
    "dynamic_vars = fg_solver(xi=0.47, yi=0, vxi=0, vyi=8.17,timestep=0.0001, int_time=1.)\n",
    "\n",
    "x_arr, y_arr, vx_arr, vy_arr = dynamic_vars\n",
    "time = np.linspace(0,1 , 10001)"
   ]
  },
  {
   "cell_type": "code",
   "execution_count": 100,
   "id": "eae4adce",
   "metadata": {},
   "outputs": [
    {
     "data": {
      "text/plain": [
       "Text(0, 0.5, 'x position in Au')"
      ]
     },
     "execution_count": 100,
     "metadata": {},
     "output_type": "execute_result"
    },
    {
     "data": {
      "image/png": "[encoded data removed]",
      "text/plain": [
       "<Figure size 432x288 with 1 Axes>"
      ]
     },
     "metadata": {
      "needs_background": "light"
     },
     "output_type": "display_data"
    }
   ],
   "source": [
    "plt.plot(time,x_arr)\n",
    "plt.xlabel('time')\n",
    "plt.ylabel('x position in Au')"
   ]
  },
  {
   "cell_type": "code",
   "execution_count": 101,
   "id": "609f5baa",
   "metadata": {},
   "outputs": [
    {
     "data": {
      "text/plain": [
       "[<matplotlib.lines.Line2D at 0x7f411b1cff70>]"
      ]
     },
     "execution_count": 101,
     "metadata": {},
     "output_type": "execute_result"
    },
    {
     "data": {
      "image/png": "[encoded data removed]",
      "text/plain": [
       "<Figure size 432x288 with 1 Axes>"
      ]
     },
     "metadata": {
      "needs_background": "light"
     },
     "output_type": "display_data"
    }
   ],
   "source": [
    "plt.plot(x_arr, y_arr)"
   ]
  },
  {
   "cell_type": "code",
   "execution_count": 102,
   "id": "49a8cc7d",
   "metadata": {},
   "outputs": [
    {
     "data": {
      "text/plain": [
       "[<matplotlib.lines.Line2D at 0x7f411b1b0fa0>]"
      ]
     },
     "execution_count": 102,
     "metadata": {},
     "output_type": "execute_result"
    },
    {
     "data": {
      "image/png": "[encoded data removed]",
      "text/plain": [
       "<Figure size 432x288 with 1 Axes>"
      ]
     },
     "metadata": {
      "needs_background": "light"
     },
     "output_type": "display_data"
    }
   ],
   "source": [
    "plt.plot(x_arr,y_arr)"
   ]
  },
  {
   "cell_type": "code",
   "execution_count": 69,
   "id": "b2f500fa",
   "metadata": {},
   "outputs": [
    {
     "data": {
      "text/plain": [
       "5"
      ]
     },
     "execution_count": 69,
     "metadata": {},
     "output_type": "execute_result"
    }
   ],
   "source": [
    "10 // 2 "
   ]
  },
  {
   "cell_type": "code",
   "execution_count": 70,
   "id": "793b9b5a",
   "metadata": {},
   "outputs": [
    {
     "data": {
      "text/plain": [
       "0"
      ]
     },
     "execution_count": 70,
     "metadata": {},
     "output_type": "execute_result"
    }
   ],
   "source": [
    "10 % 2"
   ]
  },
  {
   "cell_type": "code",
   "execution_count": null,
   "id": "1ddffc99",
   "metadata": {},
   "outputs": [],
   "source": []
  }
 ],
 "metadata": {
  "kernelspec": {
   "display_name": "Python 3 (ipykernel)",
   "language": "python",
   "name": "python3"
  },
  "language_info": {
   "codemirror_mode": {
    "name": "ipython",
    "version": 3
   },
   "file_extension": ".py",
   "mimetype": "text/x-python",
   "name": "python",
   "nbconvert_exporter": "python",
   "pygments_lexer": "ipython3",
   "version": "3.9.12"
  }
 },
 "nbformat": 4,
 "nbformat_minor": 5
}
