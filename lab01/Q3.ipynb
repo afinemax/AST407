{
 "cells": [
  {
   "cell_type": "markdown",
   "id": "1298da84",
   "metadata": {},
   "source": [
    "# AST326 lab01\n",
    "### Maxwell Fine 1004714400"
   ]
  },
  {
   "cell_type": "code",
   "execution_count": 20,
   "id": "b2622a43",
   "metadata": {},
   "outputs": [],
   "source": [
    "import numpy as np\n",
    "from time import time\n",
    "import matplotlib.pyplot as plt"
   ]
  },
  {
   "cell_type": "code",
   "execution_count": 13,
   "id": "bcd3b538",
   "metadata": {},
   "outputs": [
    {
     "ename": "NameError",
     "evalue": "name 'matmul' is not defined",
     "output_type": "error",
     "traceback": [
      "\u001b[0;31m---------------------------------------------------------------------------\u001b[0m",
      "\u001b[0;31mNameError\u001b[0m                                 Traceback (most recent call last)",
      "Input \u001b[0;32mIn [13]\u001b[0m, in \u001b[0;36m<cell line: 4>\u001b[0;34m()\u001b[0m\n\u001b[1;32m      2\u001b[0m A \u001b[38;5;241m=\u001b[39m np\u001b[38;5;241m.\u001b[39mones([N, N], \u001b[38;5;28mfloat\u001b[39m)\u001b[38;5;241m*\u001b[39m\u001b[38;5;241m3.\u001b[39m\n\u001b[1;32m      3\u001b[0m B \u001b[38;5;241m=\u001b[39m np\u001b[38;5;241m.\u001b[39mones([N, N], \u001b[38;5;28mfloat\u001b[39m)\u001b[38;5;241m*\u001b[39m\u001b[38;5;241m3.\u001b[39m\n\u001b[0;32m----> 4\u001b[0m c_ma \u001b[38;5;241m=\u001b[39m \u001b[43mmatmul\u001b[49m(A, B)\n\u001b[1;32m      5\u001b[0m c_el \u001b[38;5;241m=\u001b[39m A\u001b[38;5;241m*\u001b[39mB\n\u001b[1;32m      6\u001b[0m c_dot \u001b[38;5;241m=\u001b[39m np\u001b[38;5;241m.\u001b[39mdot(A,B)\n",
      "\u001b[0;31mNameError\u001b[0m: name 'matmul' is not defined"
     ]
    }
   ],
   "source": [
    "N = 1000\n",
    "A = np.ones([N, N], float)*3.\n",
    "B = np.ones([N, N], float)*3.\n",
    "c_ma = matmul(A, B)\n",
    "c_el = A*B\n",
    "c_dot = np.dot(A,B)"
   ]
  },
  {
   "cell_type": "code",
   "execution_count": null,
   "id": "e0e9cbd5",
   "metadata": {},
   "outputs": [],
   "source": [
    "ma_dt = np.empty(N)\n",
    "c_el_dt = np.empty(N)\n",
    "c_dot_dt = np.empty(N)\n",
    "c_code_dt = np.empty(N)\n",
    "\n",
    "for i in range(N):\n",
    "    A = np.ones([N, N], float)*3.\n",
    "    B = np.ones([N, N], float)*3.\n",
    "\n",
    "    ma_start = time()\n",
    "    c_ma = np.matmul(A, B)\n",
    "    ma_stop = time()\n",
    "    ma_dt[i] = ma_start-ma_start\n",
    "    \n",
    "    c_el_start = time()\n",
    "    c_el = A*B\n",
    "    c_el_stop = time()\n",
    "    c_el_dt[i] = c_el_stop-c_el_start\n",
    "    \n",
    "    c_dot_start = time()\n",
    "    c__dot = np.dot(A,B)\n",
    "    c_dot_stop = time()\n",
    "    c_dot_dt[i] = c_dot_stop-c_dot_start\n",
    "    \n",
    "    # Use the code snippet to compute new matric C\n",
    "    C = np.zeros([N,N],float)\n",
    "    # Star timing\n",
    "    start = time()\n",
    "    for l in range(N):\n",
    "        for j in range(N):\n",
    "            for k in range(N):\n",
    "                C[l,j] += A[l,k]*B[k,j]\n",
    "\n",
    "    end = time()\n",
    "    c_code_dt[i] = end-start"
   ]
  },
  {
   "cell_type": "code",
   "execution_count": null,
   "id": "e660e4fd",
   "metadata": {},
   "outputs": [],
   "source": [
    "N_arr = np.arange(0,N)\n",
    "plt.plot(N_arr, ma_dt, label=\"matrix\")\n",
    "plt.plot(N_arr, c_el_dt, label='element')\n",
    "plt.plot(N_arr, c_dot_dt, label = ' np.dot')\n",
    "plt.plot(N_arr, c_code_dt, label='snippit')\n",
    "plt.legend()\n",
    "plt.ylabel('Time (s)')\n",
    "plt.xlabel('N (dimensionless)')\n"
   ]
  },
  {
   "cell_type": "code",
   "execution_count": null,
   "id": "52edae53",
   "metadata": {},
   "outputs": [],
   "source": [
    "N_arr = np.arange(0,N)\n",
    "plt.plot(N_arr**3, ma_dt, label=\"matrix\")\n",
    "plt.plot(N_arr**3, c_el_dt, label='element')\n",
    "plt.plot(N_arr**3, c_dot_dt, label = ' np.dot')\n",
    "plt.plot(N_arr**3, c_code_dt, label = 'snippet')\n",
    "plt.legend()\n",
    "plt.ylabel('Time (s)')\n",
    "plt.xscale('log')\n",
    "plt.xlabel('N$^3$ (dimensionless)')\n"
   ]
  },
  {
   "cell_type": "code",
   "execution_count": null,
   "id": "efdee718",
   "metadata": {},
   "outputs": [],
   "source": []
  },
  {
   "cell_type": "code",
   "execution_count": null,
   "id": "04d11112",
   "metadata": {},
   "outputs": [],
   "source": []
  }
 ],
 "metadata": {
  "kernelspec": {
   "display_name": "Python 3 (ipykernel)",
   "language": "python",
   "name": "python3"
  },
  "language_info": {
   "codemirror_mode": {
    "name": "ipython",
    "version": 3
   },
   "file_extension": ".py",
   "mimetype": "text/x-python",
   "name": "python",
   "nbconvert_exporter": "python",
   "pygments_lexer": "ipython3",
   "version": "3.9.12"
  }
 },
 "nbformat": 4,
 "nbformat_minor": 5
}
