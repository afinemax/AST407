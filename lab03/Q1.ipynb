{
 "cells": [
  {
   "cell_type": "code",
   "execution_count": 1,
   "id": "77da94d2",
   "metadata": {},
   "outputs": [],
   "source": [
    "#Q1"
   ]
  },
  {
   "cell_type": "code",
   "execution_count": 2,
   "id": "373ed9a5",
   "metadata": {},
   "outputs": [],
   "source": [
    "# imports\n",
    "import numpy as np\n",
    "import matplotlib.pyplot as plt"
   ]
  },
  {
   "cell_type": "markdown",
   "id": "e8dcdea3",
   "metadata": {},
   "source": [
    "### Q1A  Consider the function f(x) = $e^{−x^2}$\n",
    "Using a forward difference scheme, numerically find the\n",
    "function’s derivative at x = 0.5 for a range of h’s from 10−16 → 100\n",
    "increasing by a factor of 10\n",
    "each step. (You should have 17 values for h). Compare the value of each numerical derivative\n",
    "that you get to the analytic value: specifically, take the absolute value of the numerical error for\n",
    "the derivative with each value of h"
   ]
  },
  {
   "cell_type": "code",
   "execution_count": 3,
   "id": "2d598f92",
   "metadata": {},
   "outputs": [],
   "source": [
    "def f(x):\n",
    "    return np.exp(-x**2)\n",
    "\n",
    "def for_dif(f, x, h):\n",
    "    #f is func\n",
    "    # h is h\n",
    "    \n",
    "    return (f(x + h) - f(x) )/ h\n",
    "\n",
    "def analytic_df(x):\n",
    "    # returns df/dx for fx\n",
    "    \n",
    "    return -2*x*np.exp(-x**2)\n",
    "\n",
    "def cet_dif(f, x, h):\n",
    "    return (f(x + h) - f(x-h) ) / (2*h)\n",
    "\n"
   ]
  },
  {
   "cell_type": "code",
   "execution_count": 4,
   "id": "c8662880",
   "metadata": {},
   "outputs": [],
   "source": [
    "h_q1 = np.logspace(-16,0, 17)\n",
    "x = 0.5\n",
    "df_q1 = for_dif(f, x, h_q1)\n",
    "df_true_q1 = analytic_df(x)\n",
    "\n",
    "error = np.abs(df_true_q1-df_q1)\n",
    "\n",
    "df_cent = cet_dif(f, x, h_q1)\n",
    "error_cent = np.abs(df_true_q1-df_cent)"
   ]
  },
  {
   "cell_type": "code",
   "execution_count": 10,
   "id": "c53cf1c4",
   "metadata": {},
   "outputs": [
    {
     "name": "stdout",
     "output_type": "stream",
     "text": [
      "0.33142224155375166 1e-16\n",
      "0.0016446658337954112 1e-15\n",
      "0.0016446658337953002 1e-14\n",
      "0.0005757802154550129 1e-13\n",
      "2.066870314243463e-05 1e-12\n",
      "1.5357573500685007e-06 1e-11\n",
      "6.846886991818124e-07 1e-10\n",
      "1.8554884406718486e-08 1e-09\n",
      "7.45265416046692e-09 1e-08\n",
      "3.8538898849971304e-08 1e-07\n",
      "3.8936937463152077e-07 1e-06\n",
      "3.893932680743006e-06 1e-05\n",
      "3.8933549444508664e-05 0.0001\n",
      "0.0003887513587198521 0.001\n",
      "0.0038290740575531723 0.01\n",
      "0.03244378693233363 0.1\n",
      "0.10539922456186435 1.0\n"
     ]
    }
   ],
   "source": [
    "for i in range(len(error)):\n",
    "    print(str(error[i]), h_q1[i])"
   ]
  },
  {
   "cell_type": "code",
   "execution_count": 11,
   "id": "3d72e03e",
   "metadata": {},
   "outputs": [
    {
     "data": {
      "text/plain": [
       "array([3.31422242e-01, 1.64466583e-03, 1.64466583e-03, 5.75780215e-04,\n",
       "       2.06687031e-05, 1.53575735e-06, 6.84688699e-07, 1.85548844e-08,\n",
       "       7.45265416e-09, 3.85388988e-08, 3.89369375e-07, 3.89393268e-06,\n",
       "       3.89335494e-05, 3.88751359e-04, 3.82907406e-03, 3.24437869e-02,\n",
       "       1.05399225e-01])"
      ]
     },
     "execution_count": 11,
     "metadata": {},
     "output_type": "execute_result"
    }
   ],
   "source": [
    "error"
   ]
  },
  {
   "cell_type": "code",
   "execution_count": 77,
   "id": "7f87218e",
   "metadata": {},
   "outputs": [
    {
     "data": {
      "text/plain": [
       "-0.778800790524059"
      ]
     },
     "execution_count": 77,
     "metadata": {},
     "output_type": "execute_result"
    }
   ],
   "source": [
    "for_dif(f, x, 1e-8)"
   ]
  },
  {
   "cell_type": "code",
   "execution_count": 38,
   "id": "a61b9561",
   "metadata": {},
   "outputs": [
    {
     "data": {
      "image/png": "[encoded data removed]",
      "text/plain": [
       "<Figure size 432x288 with 1 Axes>"
      ]
     },
     "metadata": {
      "needs_background": "light"
     },
     "output_type": "display_data"
    }
   ],
   "source": [
    "#plt.hist(error, bins=len(error))\n",
    "#plt.xscale('log')\n",
    "plt.scatter(h_q1, error, color='green', label='Foward Difference')\n",
    "plt.yscale('log')\n",
    "plt.ylabel('Error',fontsize = 15)\n",
    "plt.xlabel('Step Size', fontsize=15)\n",
    "plt.xscale('log')\n",
    "plt.xticks(fontsize=12,)\n",
    "plt.yticks(fontsize=12,)\n",
    "#plt.legend(fontsize=12)\n",
    "plt.title('Forward difference', fontsize=13)\n",
    "plt.savefig('q1_b.pdf', bbox_inches='tight') # saves plot\n",
    "#plt.close() # closes figure to keep memory use low"
   ]
  },
  {
   "cell_type": "code",
   "execution_count": 36,
   "id": "592e8bf8",
   "metadata": {},
   "outputs": [
    {
     "data": {
      "image/png": "[encoded data removed]",
      "text/plain": [
       "<Figure size 432x288 with 1 Axes>"
      ]
     },
     "metadata": {
      "needs_background": "light"
     },
     "output_type": "display_data"
    }
   ],
   "source": [
    "plt.scatter(h_q1, error, color='green', label='Foward Difference')\n",
    "#plt.plot(h_q1, error, color='green')\n",
    "\n",
    "plt.scatter(h_q1, error_cent, color='k', label='Central')\n",
    "#plt.plot(h_q1, error_cent, color='k', )\n",
    "plt.yscale('log')\n",
    "plt.ylabel('Error', fontsize=15)\n",
    "plt.xscale('log')\n",
    "plt.xlabel('Step Size', fontsize=12)\n",
    "plt.title('Forward vs Central Difference', fontsize=12)\n",
    "plt.legend(fontsize=12)\n",
    "\n",
    "plt.xticks(fontsize=12,)\n",
    "plt.yticks(fontsize=12,)\n",
    "#plt.legend(fontsize=12)\n",
    "plt.savefig('q1_c.pdf', bbox_inches='tight')\n"
   ]
  },
  {
   "cell_type": "code",
   "execution_count": 28,
   "id": "b66a66d1",
   "metadata": {},
   "outputs": [
    {
     "data": {
      "text/plain": [
       "array([ 0.00000000e+00,  0.00000000e+00,  0.00000000e+00,  5.55111512e-04,\n",
       "        0.00000000e+00,  0.00000000e+00,  5.55111512e-07,  0.00000000e+00,\n",
       "        5.55111512e-09,  3.82199918e-08,  3.89328023e-07,  3.89386357e-06,\n",
       "        3.89270594e-05,  3.88102358e-04,  3.76417665e-03,  2.59803183e-02,\n",
       "       -3.36700779e-01])"
      ]
     },
     "execution_count": 28,
     "metadata": {},
     "output_type": "execute_result"
    }
   ],
   "source": [
    "error - error_cent"
   ]
  },
  {
   "cell_type": "code",
   "execution_count": null,
   "id": "1c10cc7c",
   "metadata": {},
   "outputs": [],
   "source": []
  }
 ],
 "metadata": {
  "kernelspec": {
   "display_name": "Python 3 (ipykernel)",
   "language": "python",
   "name": "python3"
  },
  "language_info": {
   "codemirror_mode": {
    "name": "ipython",
    "version": 3
   },
   "file_extension": ".py",
   "mimetype": "text/x-python",
   "name": "python",
   "nbconvert_exporter": "python",
   "pygments_lexer": "ipython3",
   "version": "3.9.12"
  }
 },
 "nbformat": 4,
 "nbformat_minor": 5
}
