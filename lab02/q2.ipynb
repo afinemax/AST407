{
 "cells": [
  {
   "cell_type": "code",
   "execution_count": 5,
   "id": "5bad0452",
   "metadata": {},
   "outputs": [],
   "source": [
    "# imports\n",
    "import numpy as np\n",
    "import matplotlib.pyplot as plt\n",
    "from time import time"
   ]
  },
  {
   "cell_type": "code",
   "execution_count": 2,
   "id": "61ebe023",
   "metadata": {},
   "outputs": [
    {
     "data": {
      "text/plain": [
       "10"
      ]
     },
     "execution_count": 2,
     "metadata": {},
     "output_type": "execute_result"
    }
   ],
   "source": [
    "# exact solution is pi, trig sub to 4*tan(x) from 0 to 1\n",
    "\n",
    "arr = np.arange(0,10)\n",
    "len(arr)"
   ]
  },
  {
   "cell_type": "code",
   "execution_count": 3,
   "id": "0b00fdb1",
   "metadata": {},
   "outputs": [
    {
     "data": {
      "text/plain": [
       "9"
      ]
     },
     "execution_count": 3,
     "metadata": {},
     "output_type": "execute_result"
    }
   ],
   "source": [
    "arr_even = arr[0:-1]\n",
    "arr[-1]"
   ]
  },
  {
   "cell_type": "code",
   "execution_count": 4,
   "id": "f20acc70",
   "metadata": {},
   "outputs": [
    {
     "ename": "NameError",
     "evalue": "name 'y_arr' is not defined",
     "output_type": "error",
     "traceback": [
      "\u001b[0;31m---------------------------------------------------------------------------\u001b[0m",
      "\u001b[0;31mNameError\u001b[0m                                 Traceback (most recent call last)",
      "Input \u001b[0;32mIn [4]\u001b[0m, in \u001b[0;36m<cell line: 1>\u001b[0;34m()\u001b[0m\n\u001b[0;32m----> 1\u001b[0m y_arr_odd \u001b[38;5;241m=\u001b[39m \u001b[43my_arr\u001b[49m[\u001b[38;5;241m0\u001b[39m:\u001b[38;5;241m-\u001b[39m\u001b[38;5;241m1\u001b[39m]\n\u001b[1;32m      2\u001b[0m y_arr_even \u001b[38;5;241m=\u001b[39m y_arr[\u001b[38;5;241m0\u001b[39m:\u001b[38;5;241m-\u001b[39m\u001b[38;5;241m2\u001b[39m]\n",
      "\u001b[0;31mNameError\u001b[0m: name 'y_arr' is not defined"
     ]
    }
   ],
   "source": [
    "y_arr_odd = y_arr[0:-1]\n",
    "y_arr_even = y_arr[0:-2]"
   ]
  },
  {
   "cell_type": "code",
   "execution_count": 6,
   "id": "989657c5",
   "metadata": {},
   "outputs": [],
   "source": [
    "\n",
    "def trapzoid_rule(x_arr, y_arr,):\n",
    "    # integrates using the trapzoid rule\n",
    "    dx = np.abs(x_arr[1] - x_arr[0])\n",
    "    n = len(x_arr)-1\n",
    "    \n",
    "    # error is \n",
    "    return (dx/2) * (y_arr[0] + 2* np.sum(y_arr[1:-1]) + y_arr[-1])\n",
    "\n",
    "\n",
    "def simpson_rule(x_arr, y_arr):\n",
    "    # integrates using the simpson's rule\n",
    "    # Note that to use Simpson’s Rule, \n",
    "    # you must have an even number of intervals and, \n",
    "    # therefore, an odd number of grid points\n",
    "    \n",
    "    dx = np.abs(x_arr[1] - x_arr[0])\n",
    "    n = len(x_arr)\n",
    "    y_arr_odd = y_arr[0:-1]\n",
    "    y_arr_even = y_arr[0:-2]\n",
    "    \n",
    "    # index 0 is first\n",
    "    odd = np.sum(y_arr_odd[1::2]) # sum over odd values\n",
    "    even = np.sum(y_arr_even[0::2]) # sum over even values\n",
    "    \n",
    "    return (dx/3)* (y_arr[0] + 4*odd + 2*even + y_arr[-1])\n",
    "\n"
   ]
  },
  {
   "cell_type": "code",
   "execution_count": 7,
   "id": "0514c902",
   "metadata": {},
   "outputs": [],
   "source": [
    "def f(x):\n",
    "    return 4/(1+x**2)\n"
   ]
  },
  {
   "cell_type": "code",
   "execution_count": 8,
   "id": "275e1ec2",
   "metadata": {
    "scrolled": false
   },
   "outputs": [],
   "source": [
    "n = int(4)\n",
    "x_arr = np.linspace(0, 1, int(n))\n",
    "y_arr = f(x_arr)\n",
    "trap = trapzoid_rule(x_arr, y_arr,)\n",
    "simp = simpson_rule(x_arr, y_arr)"
   ]
  },
  {
   "cell_type": "code",
   "execution_count": 9,
   "id": "7705ea69",
   "metadata": {},
   "outputs": [
    {
     "name": "stdout",
     "output_type": "stream",
     "text": [
      "-0.018515730512870476 0.013962901965761887 -0.03247863247863236\n"
     ]
    }
   ],
   "source": [
    "print(trap-np.pi, simp-np.pi, trap-simp)"
   ]
  },
  {
   "cell_type": "code",
   "execution_count": 10,
   "id": "642fe15b",
   "metadata": {},
   "outputs": [
    {
     "ename": "NameError",
     "evalue": "name 'trap_01' is not defined",
     "output_type": "error",
     "traceback": [
      "\u001b[0;31m---------------------------------------------------------------------------\u001b[0m",
      "\u001b[0;31mNameError\u001b[0m                                 Traceback (most recent call last)",
      "Input \u001b[0;32mIn [10]\u001b[0m, in \u001b[0;36m<cell line: 1>\u001b[0;34m()\u001b[0m\n\u001b[0;32m----> 1\u001b[0m \u001b[38;5;28mprint\u001b[39m(\u001b[43mtrap_01\u001b[49m \u001b[38;5;241m-\u001b[39m trap_02)\n",
      "\u001b[0;31mNameError\u001b[0m: name 'trap_01' is not defined"
     ]
    }
   ],
   "source": [
    "print(trap_01 - trap_02)"
   ]
  },
  {
   "cell_type": "code",
   "execution_count": 12,
   "id": "75aec51e",
   "metadata": {},
   "outputs": [
    {
     "name": "stdout",
     "output_type": "stream",
     "text": [
      "Time =  27.049411900043488  N =  1073741824.0\n"
     ]
    }
   ],
   "source": [
    "# how many n until error is less then 10−9\n",
    "# for simp\n",
    "\n",
    "trials = 100\n",
    "N_arr = np.empty(trials)\n",
    "time_arr = np.empty(trials)\n",
    "for i in range(trials):\n",
    "    \n",
    "    little_n = 1\n",
    "    tstart = time()\n",
    "    error = 3\n",
    "    while error >= 1e-9: # just need to think about what to set this to b\n",
    "    \n",
    "        N = 2**little_n\n",
    "        x_arr = np.linspace(0, 1, N)\n",
    "        #trap_01 = trapzoid_rule(x_arr, f(x_arr), n-1,)\n",
    "        simp = simpson_rule(x_arr, f(x_arr),)\n",
    "        error = np.abs(simp - np.pi)\n",
    "        little_n += 1\n",
    "        #print(error)\n",
    "\n",
    "        tstop = time()\n",
    "    time_arr[i] = tstop-tstart\n",
    "    N_arr[i] = N\n",
    "print('Time = ',np.mean(time_arr), ' N = ', np.mean(N_arr))"
   ]
  },
  {
   "cell_type": "code",
   "execution_count": 13,
   "id": "496907dd",
   "metadata": {},
   "outputs": [
    {
     "name": "stdout",
     "output_type": "stream",
     "text": [
      "Time =  0.0006974983215332031  N =  16384.0\n"
     ]
    }
   ],
   "source": [
    "# how many n until error is less then 10−9\n",
    "# for trap\n",
    "\n",
    "trials = 100\n",
    "N_arr = np.empty(trials)\n",
    "time_arr = np.empty(trials)\n",
    "for i in range(trials):\n",
    "    \n",
    "    little_n = 1\n",
    "    tstart = time()\n",
    "    error = 3\n",
    "    while error >= 1e-9: # just need to think about what to set this to b\n",
    "    \n",
    "        N = 2**little_n\n",
    "        x_arr = np.linspace(0, 1, N)\n",
    "        #trap_01 = trapzoid_rule(x_arr, f(x_arr), n-1,)\n",
    "        trap_02 = trapzoid_rule(x_arr, f(x_arr),)\n",
    "        error = np.abs(trap_02 - np.pi)\n",
    "        little_n += 1\n",
    "\n",
    "        tstop = time()\n",
    "    time_arr[i] = tstop-tstart\n",
    "    N_arr[i] = N\n",
    "print('Time = ',np.mean(time_arr), ' N = ', np.mean(N_arr))"
   ]
  },
  {
   "cell_type": "code",
   "execution_count": null,
   "id": "f3d0e4e5",
   "metadata": {},
   "outputs": [],
   "source": [
    "plt.hist(time_arr, bins=int(np.sqrt(trials)))\n",
    "np.mean(time_arr)"
   ]
  },
  {
   "cell_type": "code",
   "execution_count": null,
   "id": "33f327ea",
   "metadata": {},
   "outputs": [],
   "source": [
    "#plt.hist(time_arr, bins= int(np.sqrt(len(time_arr))))"
   ]
  },
  {
   "cell_type": "code",
   "execution_count": null,
   "id": "e14fcbda",
   "metadata": {},
   "outputs": [],
   "source": []
  },
  {
   "cell_type": "code",
   "execution_count": null,
   "id": "82361724",
   "metadata": {},
   "outputs": [],
   "source": [
    "# guess\n",
    "# dx = (1-0) / n\n",
    "# order for trap is 0(dx^3)"
   ]
  },
  {
   "cell_type": "code",
   "execution_count": null,
   "id": "e3797d45",
   "metadata": {},
   "outputs": [],
   "source": [
    "# error ~ 1n^3"
   ]
  },
  {
   "cell_type": "code",
   "execution_count": null,
   "id": "ed7372a5",
   "metadata": {},
   "outputs": [],
   "source": [
    "1e-9 = n**3"
   ]
  },
  {
   "cell_type": "code",
   "execution_count": null,
   "id": "d3ec93c1",
   "metadata": {},
   "outputs": [],
   "source": [
    "n = (1e-9)**-3"
   ]
  },
  {
   "cell_type": "code",
   "execution_count": null,
   "id": "47d4e9c4",
   "metadata": {},
   "outputs": [],
   "source": []
  },
  {
   "cell_type": "code",
   "execution_count": null,
   "id": "fdf82813",
   "metadata": {},
   "outputs": [],
   "source": []
  }
 ],
 "metadata": {
  "kernelspec": {
   "display_name": "Python 3 (ipykernel)",
   "language": "python",
   "name": "python3"
  },
  "language_info": {
   "codemirror_mode": {
    "name": "ipython",
    "version": 3
   },
   "file_extension": ".py",
   "mimetype": "text/x-python",
   "name": "python",
   "nbconvert_exporter": "python",
   "pygments_lexer": "ipython3",
   "version": "3.9.12"
  }
 },
 "nbformat": 4,
 "nbformat_minor": 5
}
