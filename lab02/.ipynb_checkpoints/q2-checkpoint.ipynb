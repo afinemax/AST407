{
 "cells": [
  {
   "cell_type": "code",
   "execution_count": 1,
   "id": "5bad0452",
   "metadata": {},
   "outputs": [],
   "source": [
    "# imports\n",
    "import numpy as np\n",
    "import matplotlib.pyplot as plt\n",
    "from time import time"
   ]
  },
  {
   "cell_type": "code",
   "execution_count": 2,
   "id": "61ebe023",
   "metadata": {},
   "outputs": [
    {
     "data": {
      "text/plain": [
       "10"
      ]
     },
     "execution_count": 2,
     "metadata": {},
     "output_type": "execute_result"
    }
   ],
   "source": [
    "# exact solution is pi, trig sub to 4*tan(x) from 0 to 1\n",
    "\n",
    "arr = np.arange(0,10)\n",
    "len(arr)"
   ]
  },
  {
   "cell_type": "code",
   "execution_count": null,
   "id": "0b00fdb1",
   "metadata": {},
   "outputs": [],
   "source": []
  },
  {
   "cell_type": "code",
   "execution_count": null,
   "id": "f20acc70",
   "metadata": {},
   "outputs": [],
   "source": []
  },
  {
   "cell_type": "code",
   "execution_count": 16,
   "id": "989657c5",
   "metadata": {},
   "outputs": [],
   "source": [
    "\n",
    "def trapzoid_rule(x_arr, y_arr,):\n",
    "    # integrates using the trapzoid rule\n",
    "    dx = np.abs(x_arr[1] - x_arr[0])\n",
    "    n = len(x_arr)-1\n",
    "    \n",
    "    # error is \n",
    "    return (dx/2) * (y_arr[0] + 2* np.sum(y_arr[1:-1]) + y_arr[-1])\n",
    "\n",
    "\n",
    "def simpson_rule(x_arr, y_arr):\n",
    "    # integrates using the simpson's rule\n",
    "    # Note that to use Simpson’s Rule, \n",
    "    # you must have an even number of intervals and, \n",
    "    # therefore, an odd number of grid points\n",
    "    \n",
    "    dx = np.abs(x_arr[1] - x_arr[0])\n",
    "    n = len(x_arr)\n",
    "    y_arr_odd = y_arr[0:-1]\n",
    "    y_arr_even = y_arr[0:-2]\n",
    "    \n",
    "    # index 0 is first\n",
    "    odd = np.sum(y_arr_odd[1::2]) # sum over odd values\n",
    "    even = np.sum(y_arr_even[0::2]) # sum over even values\n",
    "    \n",
    "    return (dx/3)* (y_arr[0] + 4*odd + 2*even + y_arr[-1])\n",
    "\n"
   ]
  },
  {
   "cell_type": "code",
   "execution_count": 17,
   "id": "0514c902",
   "metadata": {},
   "outputs": [],
   "source": [
    "def f(x):\n",
    "    return 4/(1+x**2)\n"
   ]
  },
  {
   "cell_type": "code",
   "execution_count": 26,
   "id": "275e1ec2",
   "metadata": {
    "scrolled": false
   },
   "outputs": [],
   "source": [
    "n = int(5)\n",
    "x_arr = np.linspace(0, 1, int(n))\n",
    "y_arr = f(x_arr)\n",
    "trap = trapzoid_rule(x_arr, y_arr,)\n",
    "simp = simpson_rule(x_arr, y_arr)"
   ]
  },
  {
   "cell_type": "code",
   "execution_count": 27,
   "id": "49b58a85",
   "metadata": {},
   "outputs": [
    {
     "data": {
      "text/plain": [
       "3.8082352941176465"
      ]
     },
     "execution_count": 27,
     "metadata": {},
     "output_type": "execute_result"
    }
   ],
   "source": [
    "simp"
   ]
  },
  {
   "cell_type": "code",
   "execution_count": 28,
   "id": "7705ea69",
   "metadata": {},
   "outputs": [
    {
     "name": "stdout",
     "output_type": "stream",
     "text": [
      "-0.010416183001557666 0.6666426405278534 -0.677058823529411\n"
     ]
    }
   ],
   "source": [
    "print(trap-np.pi, simp-np.pi, trap-simp)"
   ]
  },
  {
   "cell_type": "code",
   "execution_count": 29,
   "id": "642fe15b",
   "metadata": {},
   "outputs": [
    {
     "name": "stdout",
     "output_type": "stream",
     "text": [
      "3.1311764705882354 3.8082352941176465 3.141592653589793\n"
     ]
    }
   ],
   "source": [
    "print(trap, simp, np.pi)"
   ]
  },
  {
   "cell_type": "code",
   "execution_count": 43,
   "id": "d9c108e3",
   "metadata": {},
   "outputs": [],
   "source": [
    "# how many n until error is less then 10−9\n",
    "def epsilon_n(func, error_max=1e-9):\n",
    "    little_n = 1\n",
    "    tstart = time()\n",
    "    error = 3\n",
    "    while error >= error_max: # just need to think about what to set this to b\n",
    "    \n",
    "            N = 2**little_n\n",
    "            x_arr = np.linspace(0, 1, N)\n",
    "            #trap_01 = trapzoid_rule(x_arr, f(x_arr), n-1,)\n",
    "            simp = func(x_arr, f(x_arr),)\n",
    "            error = np.abs(simp - np.pi)\n",
    "            little_n += 1\n",
    "   \n",
    "\n",
    "            tstop = time()\n",
    "    time_arr[i] = tstop-tstart\n",
    "    N_arr[i] = N\n",
    "    \n",
    "    print(str(func))\n",
    "    print('Time = ',np.mean(time_arr), '[s] N = ', np.mean(N_arr))\n",
    "    print('n', little_n-1)\n",
    "    \n",
    "    "
   ]
  },
  {
   "cell_type": "code",
   "execution_count": 44,
   "id": "2726a44f",
   "metadata": {},
   "outputs": [
    {
     "name": "stdout",
     "output_type": "stream",
     "text": [
      "<function simpson_rule at 0x7f0ef8a99dc0>\n",
      "Time =  1.892207670211792 [s] N =  107388928.0\n",
      "n 30\n",
      "<function trapzoid_rule at 0x7f0ef8a99c10>\n",
      "Time =  0.0025503158569335936 [s] N =  16384.0\n",
      "n 14\n"
     ]
    }
   ],
   "source": [
    "epsilon_n(func=simpson_rule, error_max=1e-9)\n",
    "epsilon_n(func=trapzoid_rule, error_max=1e-9)"
   ]
  },
  {
   "cell_type": "code",
   "execution_count": 45,
   "id": "75aec51e",
   "metadata": {},
   "outputs": [
    {
     "name": "stdout",
     "output_type": "stream",
     "text": [
      "Time =  18.709520053863525  N =  1073741824.0\n",
      "n 30\n"
     ]
    }
   ],
   "source": [
    "# how many n until error is less then 10−9\n",
    "# for simp\n",
    "\n",
    "trials = 10\n",
    "N_arr = np.empty(trials)\n",
    "time_arr = np.empty(trials)\n",
    "for i in range(trials):\n",
    "    \n",
    "    little_n = 1\n",
    "    tstart = time()\n",
    "    error = 3\n",
    "    while error >= 1e-9: # just need to think about what to set this to b\n",
    "    \n",
    "        N = 2**little_n\n",
    "        x_arr = np.linspace(0, 1, N)\n",
    "        #trap_01 = trapzoid_rule(x_arr, f(x_arr), n-1,)\n",
    "        simp = simpson_rule(x_arr, f(x_arr),)\n",
    "        error = np.abs(simp - np.pi)\n",
    "        little_n += 1\n",
    "        #print(error)\n",
    "\n",
    "        tstop = time()\n",
    "    time_arr[i] = tstop-tstart\n",
    "    N_arr[i] = N\n",
    "    \n",
    "print('Time = ',np.mean(time_arr), ' N = ', np.mean(N_arr))\n",
    "print('n', little_n-1)"
   ]
  },
  {
   "cell_type": "code",
   "execution_count": 33,
   "id": "2ebd714c",
   "metadata": {},
   "outputs": [
    {
     "name": "stdout",
     "output_type": "stream",
     "text": [
      "32768.0\n"
     ]
    }
   ],
   "source": [
    "\n"
   ]
  },
  {
   "cell_type": "code",
   "execution_count": 31,
   "id": "496907dd",
   "metadata": {},
   "outputs": [
    {
     "name": "stdout",
     "output_type": "stream",
     "text": [
      "Time =  0.0025214433670043947  N =  16384.0\n"
     ]
    }
   ],
   "source": [
    "# how many n until error is less then 10−9\n",
    "# for trap\n",
    "\n",
    "trials = 10\n",
    "N_arr = np.empty(trials)\n",
    "time_arr = np.empty(trials)\n",
    "for i in range(trials):\n",
    "    \n",
    "    little_n = 1\n",
    "    tstart = time()\n",
    "    error = 3\n",
    "    while error >= 1e-9: # just need to think about what to set this to b\n",
    "    \n",
    "        N = 2**little_n\n",
    "        x_arr = np.linspace(0, 1, N)\n",
    "        #trap_01 = trapzoid_rule(x_arr, f(x_arr), n-1,)\n",
    "        trap_02 = trapzoid_rule(x_arr, f(x_arr),)\n",
    "        error = np.abs(trap_02 - np.pi)\n",
    "        little_n += 1\n",
    "\n",
    "        tstop = time()\n",
    "    time_arr[i] = tstop-tstart\n",
    "    N_arr[i] = N\n",
    "    \n",
    "print('Time = ',np.mean(time_arr), ' N = ', np.mean(N_arr))\n",
    "print('n', little_n-1)"
   ]
  },
  {
   "cell_type": "code",
   "execution_count": null,
   "id": "f3d0e4e5",
   "metadata": {},
   "outputs": [],
   "source": []
  },
  {
   "cell_type": "code",
   "execution_count": null,
   "id": "33f327ea",
   "metadata": {},
   "outputs": [],
   "source": []
  },
  {
   "cell_type": "code",
   "execution_count": null,
   "id": "e14fcbda",
   "metadata": {},
   "outputs": [],
   "source": []
  },
  {
   "cell_type": "code",
   "execution_count": null,
   "id": "82361724",
   "metadata": {},
   "outputs": [],
   "source": []
  },
  {
   "cell_type": "code",
   "execution_count": null,
   "id": "e3797d45",
   "metadata": {},
   "outputs": [],
   "source": []
  },
  {
   "cell_type": "code",
   "execution_count": null,
   "id": "ed7372a5",
   "metadata": {},
   "outputs": [],
   "source": []
  },
  {
   "cell_type": "code",
   "execution_count": null,
   "id": "d3ec93c1",
   "metadata": {},
   "outputs": [],
   "source": []
  },
  {
   "cell_type": "code",
   "execution_count": null,
   "id": "47d4e9c4",
   "metadata": {},
   "outputs": [],
   "source": []
  },
  {
   "cell_type": "code",
   "execution_count": null,
   "id": "fdf82813",
   "metadata": {},
   "outputs": [],
   "source": []
  }
 ],
 "metadata": {
  "kernelspec": {
   "display_name": "Python 3 (ipykernel)",
   "language": "python",
   "name": "python3"
  },
  "language_info": {
   "codemirror_mode": {
    "name": "ipython",
    "version": 3
   },
   "file_extension": ".py",
   "mimetype": "text/x-python",
   "name": "python",
   "nbconvert_exporter": "python",
   "pygments_lexer": "ipython3",
   "version": "3.9.12"
  }
 },
 "nbformat": 4,
 "nbformat_minor": 5
}
