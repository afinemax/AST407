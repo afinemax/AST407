{
 "cells": [
  {
   "cell_type": "code",
   "execution_count": null,
   "id": "2d1da686",
   "metadata": {},
   "outputs": [],
   "source": []
  },
  {
   "cell_type": "code",
   "execution_count": 9,
   "id": "a8514bbd",
   "metadata": {},
   "outputs": [],
   "source": [
    "# imports\n",
    "import numpy as np\n",
    "import matplotlib.pyplot as plt\n",
    "from scipy.integrate import quad\n",
    "import scipy as sp\n",
    "c = sp.constants.c # speed of light in SI\n",
    "h = sp.constants.h # plank constant in SI\n",
    "k = sp.constants.k # boltzmann constant in SI\n",
    "sigma = sp.constants.Stefan_Boltzmann # in SI\n",
    "# importing and setting our constants"
   ]
  },
  {
   "cell_type": "markdown",
   "id": "13a1f645",
   "metadata": {},
   "source": [
    "### Q3: Show that in eqn (5), the integration of B over ν can be written as:\n",
    "\n",
    "$B = \\frac{2hc^2\\nu^3}{e^{\\frac{hc\\nu}{kt}}-1} $   (1)\n",
    "\n",
    "$ W = \\pi \\int_{0}^{\\infty}Bd\\nu = C_1 \\int_{0}^{\\infty}\\frac{x^{3}}{e^x -1} dx$ (2)\n",
    "\n",
    "Answer:\n",
    "\n",
    "Let $x = \\frac{hc\\nu}{kt}$, the denomenator in (1) becomes:\n",
    "\n",
    "$B = \\frac{2hc^{2}\\nu^{3}}{e^{x}-1} $, now we just have to adjust the numerator!\n",
    "\n",
    "Rewriting again,\n",
    "\n",
    "$B = \\frac{C_1x^3}{e^x-1} = \\frac{2hc^{2}\\nu^{3}}{e^{x}-1} (?)$\n",
    " This is only true if we can show the numerators are equal!\n",
    " \n",
    "$x^{3} = (\\frac{hc\\nu}{kt})^{3} \\rightarrow \\frac{h^3c^3\\nu^3}{k^3t^3}$\n",
    "\n",
    "$ \\rightarrow  C_1 x^3 = C_1\\frac{h^3c^3\\nu^3}{k^3t^3}= 2hc^{2}\\nu^{3}$\n",
    "\n",
    "$\\rightarrow C_1 \\frac{h^3c^3\\nu^3}{k^3t^3} = 2hc^{2}\\nu^{3}$\n",
    "\n",
    "$C_1  = \\frac{2k^3t^3}{h^2c}$ \n",
    "For this choice of $C_1$ it works!"
   ]
  },
  {
   "cell_type": "markdown",
   "id": "6f9ac4d4",
   "metadata": {},
   "source": [
    "### Part B\n",
    "Write a program to calculate the value for W given the temperature T. Explain\n",
    "the method used to integrate over the infinite range, and give an estimate for the\n",
    "accuracy of the method."
   ]
  },
  {
   "cell_type": "code",
   "execution_count": 77,
   "id": "c495fbca",
   "metadata": {},
   "outputs": [
    {
     "data": {
      "text/plain": [
       "15.154262241479259"
      ]
     },
     "execution_count": 77,
     "metadata": {},
     "output_type": "execute_result"
    }
   ],
   "source": []
  },
  {
   "cell_type": "code",
   "execution_count": 30,
   "id": "291e530a",
   "metadata": {},
   "outputs": [
    {
     "name": "stderr",
     "output_type": "stream",
     "text": [
      "/tmp/ipykernel_5446/3885831412.py:11: RuntimeWarning: overflow encountered in exp\n",
      "  return C_1 * x**3 / ( np.exp(x)-1)\n"
     ]
    }
   ],
   "source": [
    "# we shall use scipy's quad method \n",
    "\n",
    "\n",
    "# define f(x) the integrand \n",
    "def black_body_integrand(x, T=100):\n",
    "   # C_1 = 2*(k**3  *T) /( h**2 *c )\n",
    "    #C_1 * x**3 / ( np.exp(x)-1)\n",
    "    #print(x)\n",
    "    \n",
    "    C_1 = 2 *np.pi* k**4 / (h**3 *c **2)\n",
    "    return C_1 * x**3 / ( np.exp(x)-1)\n",
    "\n",
    "# integrate \n",
    "T=5000\n",
    "W = sp.integrate.quad(black_body_integrand, a=0, \n",
    "                     b=np.inf, args=(T))\n",
    "\n",
    "# wrapper\n",
    "\n"
   ]
  },
  {
   "cell_type": "code",
   "execution_count": 31,
   "id": "89780420",
   "metadata": {},
   "outputs": [
    {
     "data": {
      "text/plain": [
       "1.0000000540133733"
      ]
     },
     "execution_count": 31,
     "metadata": {},
     "output_type": "execute_result"
    }
   ],
   "source": [
    "sigma / W[0] "
   ]
  },
  {
   "cell_type": "code",
   "execution_count": null,
   "id": "20f2f40b",
   "metadata": {},
   "outputs": [],
   "source": []
  },
  {
   "cell_type": "code",
   "execution_count": null,
   "id": "b16dbb63",
   "metadata": {
    "scrolled": false
   },
   "outputs": [],
   "source": []
  },
  {
   "cell_type": "code",
   "execution_count": null,
   "id": "379066fe",
   "metadata": {},
   "outputs": [],
   "source": []
  },
  {
   "cell_type": "code",
   "execution_count": null,
   "id": "b82ea085",
   "metadata": {},
   "outputs": [],
   "source": []
  },
  {
   "cell_type": "code",
   "execution_count": null,
   "id": "09bb7a43",
   "metadata": {},
   "outputs": [],
   "source": []
  },
  {
   "cell_type": "code",
   "execution_count": null,
   "id": "89443a75",
   "metadata": {},
   "outputs": [],
   "source": []
  },
  {
   "cell_type": "code",
   "execution_count": null,
   "id": "c7ab7852",
   "metadata": {},
   "outputs": [],
   "source": []
  },
  {
   "cell_type": "code",
   "execution_count": null,
   "id": "9ce1c933",
   "metadata": {},
   "outputs": [],
   "source": []
  },
  {
   "cell_type": "code",
   "execution_count": null,
   "id": "d7a966f8",
   "metadata": {},
   "outputs": [],
   "source": []
  },
  {
   "cell_type": "code",
   "execution_count": null,
   "id": "b513b036",
   "metadata": {},
   "outputs": [],
   "source": []
  }
 ],
 "metadata": {
  "kernelspec": {
   "display_name": "Python 3 (ipykernel)",
   "language": "python",
   "name": "python3"
  },
  "language_info": {
   "codemirror_mode": {
    "name": "ipython",
    "version": 3
   },
   "file_extension": ".py",
   "mimetype": "text/x-python",
   "name": "python",
   "nbconvert_exporter": "python",
   "pygments_lexer": "ipython3",
   "version": "3.9.12"
  }
 },
 "nbformat": 4,
 "nbformat_minor": 5
}
