{
 "cells": [
  {
   "cell_type": "code",
   "execution_count": 6,
   "id": "6104d613",
   "metadata": {},
   "outputs": [],
   "source": [
    "# imports\n",
    "import numpy as np\n",
    "import matplotlib.pyplot as plt\n",
    "data_file = 'cdata.txt'"
   ]
  },
  {
   "cell_type": "code",
   "execution_count": 7,
   "id": "e7de1c96",
   "metadata": {},
   "outputs": [],
   "source": [
    "data = np.loadtxt(data_file)"
   ]
  },
  {
   "cell_type": "code",
   "execution_count": 60,
   "id": "2134358a",
   "metadata": {},
   "outputs": [],
   "source": [
    "# std functions\n",
    "\n",
    "def cal_mean(data_arr):\n",
    "    n = len(data_arr)\n",
    "    total = np.sum(data_arr)\n",
    "    return total/n\n",
    "\n",
    "def std_2_loop(data_arr):\n",
    "    # calculates mean first and then std\n",
    "    mean = cal_mean(data_arr)\n",
    "    n = len(data_arr)\n",
    "    sigma_2 = (1/(n-1)) * np.sum((data_arr - mean)**2)\n",
    "    # wont work if N = 0, 1\n",
    "    # sigma_2 is - if, np.sum((data_arr-mean)**2) is negative,\n",
    "    # never negative for real numbers\n",
    "    \n",
    "    return np.sqrt(sigma_2)\n",
    "\n",
    "def std_1_loop(data_arr):\n",
    "    # calculates std in 1 loop\n",
    "    # I think this is still 2 loops?!\n",
    "    n = len(data_arr)\n",
    "    sigma_2 = (1/(n-1)) * np.sum(data_arr**2 - n*np.sum(data_arr)**2 )\n",
    "    \n",
    "    # need to take the root of a negative if \n",
    "    # np.sum(data_arr**2 - *n*sum**2 ) is negative\n",
    "    # can happen \n",
    "    print('variance is ', sigma_2)\n",
    "    if sigma_2 < 0:\n",
    "        print('Warning! Variance is <0, implying the standard deviation is imaginary')\n",
    "    return np.sqrt(sigma_2)\n",
    "    "
   ]
  },
  {
   "cell_type": "code",
   "execution_count": 61,
   "id": "91ad7d81",
   "metadata": {},
   "outputs": [
    {
     "data": {
      "text/plain": [
       "True"
      ]
     },
     "execution_count": 61,
     "metadata": {},
     "output_type": "execute_result"
    }
   ],
   "source": [
    "cal_mean(data) == np.mean(data)"
   ]
  },
  {
   "cell_type": "code",
   "execution_count": 62,
   "id": "eadbc6bd",
   "metadata": {},
   "outputs": [
    {
     "name": "stdout",
     "output_type": "stream",
     "text": [
      "variance is  -90819567549.78992\n",
      "Warning! Variance is <0, implying the standard deviation is imaginary\n",
      "301362.8503146828\n"
     ]
    },
    {
     "name": "stderr",
     "output_type": "stream",
     "text": [
      "/tmp/ipykernel_5002/3794658547.py:32: RuntimeWarning: invalid value encountered in sqrt\n",
      "  return np.sqrt(sigma_2)\n"
     ]
    }
   ],
   "source": [
    "std_correct = np.std(data)\n",
    "std_1_loop_val = std_1_loop(data)\n",
    "std_2_loop_val = std_2_loop(data)"
   ]
  },
  {
   "cell_type": "code",
   "execution_count": 19,
   "id": "39f30ded",
   "metadata": {},
   "outputs": [
    {
     "name": "stdout",
     "output_type": "stream",
     "text": [
      "0.07861450247886727 nan 0.07901054781905067\n"
     ]
    }
   ],
   "source": [
    "print(std_correct, std_1_loop_val, std_2_loop_val)"
   ]
  },
  {
   "cell_type": "code",
   "execution_count": 29,
   "id": "64e2193d",
   "metadata": {},
   "outputs": [
    {
     "data": {
      "text/plain": [
       "[<matplotlib.lines.Line2D at 0x7f0a2ae63e50>]"
      ]
     },
     "execution_count": 29,
     "metadata": {},
     "output_type": "execute_result"
    },
    {
     "data": {
      "image/png": "[encoded data removed]",
      "text/plain": [
       "<Figure size 432x288 with 1 Axes>"
      ]
     },
     "metadata": {
      "needs_background": "light"
     },
     "output_type": "display_data"
    }
   ],
   "source": [
    "plt.scatter(np.arange(0,len(data)), data)\n",
    "plt.plot(np.arange(0,len(data)), np.ones(len(data))*np.mean(data), color = 'k')"
   ]
  },
  {
   "cell_type": "code",
   "execution_count": 36,
   "id": "55df7e6c",
   "metadata": {},
   "outputs": [],
   "source": [
    "data_2_m_mean = data**2 - n*np.mean(data)**2"
   ]
  },
  {
   "cell_type": "code",
   "execution_count": 43,
   "id": "1f67c931",
   "metadata": {},
   "outputs": [],
   "source": [
    "n = len(data)\n",
    "data_2_m_mean = data**2 - n*np.mean(data)**2\n",
    "sigma_2 = (1/(n-1)) * np.sum(data_2_m_mean**2 )"
   ]
  },
  {
   "cell_type": "code",
   "execution_count": 48,
   "id": "0c648441",
   "metadata": {},
   "outputs": [
    {
     "data": {
      "text/plain": [
       "8946077.486786421"
      ]
     },
     "execution_count": 48,
     "metadata": {},
     "output_type": "execute_result"
    }
   ],
   "source": [
    "np.sqrt(sigma_2)"
   ]
  },
  {
   "cell_type": "code",
   "execution_count": 46,
   "id": "148c95c2",
   "metadata": {},
   "outputs": [
    {
     "data": {
      "text/plain": [
       "[<matplotlib.lines.Line2D at 0x7f0a2ac82b80>]"
      ]
     },
     "execution_count": 46,
     "metadata": {},
     "output_type": "execute_result"
    },
    {
     "data": {
      "image/png": "[encoded data removed]",
      "text/plain": [
       "<Figure size 432x288 with 1 Axes>"
      ]
     },
     "metadata": {
      "needs_background": "light"
     },
     "output_type": "display_data"
    }
   ],
   "source": [
    "plt.plot(np.arange(0,len(data)), data_2_m_mean)\n",
    "#plt.set_y_scale('log')"
   ]
  },
  {
   "cell_type": "code",
   "execution_count": 33,
   "id": "632c8c9d",
   "metadata": {},
   "outputs": [
    {
     "data": {
      "text/plain": [
       "0.07901054784482754"
      ]
     },
     "execution_count": 33,
     "metadata": {},
     "output_type": "execute_result"
    }
   ],
   "source": [
    "(np.sum(data_2_m_mean) * 1./ (len(data)-1))**0.5"
   ]
  },
  {
   "cell_type": "code",
   "execution_count": 42,
   "id": "13e0d3a4",
   "metadata": {},
   "outputs": [
    {
     "data": {
      "text/plain": [
       "8991146.178576"
      ]
     },
     "execution_count": 42,
     "metadata": {},
     "output_type": "execute_result"
    }
   ],
   "source": [
    "np.mean(data)**2 * 100"
   ]
  },
  {
   "cell_type": "code",
   "execution_count": null,
   "id": "2fc0b73c",
   "metadata": {},
   "outputs": [],
   "source": []
  }
 ],
 "metadata": {
  "kernelspec": {
   "display_name": "Python 3 (ipykernel)",
   "language": "python",
   "name": "python3"
  },
  "language_info": {
   "codemirror_mode": {
    "name": "ipython",
    "version": 3
   },
   "file_extension": ".py",
   "mimetype": "text/x-python",
   "name": "python",
   "nbconvert_exporter": "python",
   "pygments_lexer": "ipython3",
   "version": "3.9.12"
  }
 },
 "nbformat": 4,
 "nbformat_minor": 5
}
