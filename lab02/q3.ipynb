{
 "cells": [
  {
   "cell_type": "code",
   "execution_count": null,
   "id": "2d1da686",
   "metadata": {},
   "outputs": [],
   "source": []
  },
  {
   "cell_type": "code",
   "execution_count": 5,
   "id": "a8514bbd",
   "metadata": {},
   "outputs": [],
   "source": [
    "# imports\n",
    "import numpy as np\n",
    "import matplotlib.pyplot as plt\n",
    "from scipy.integrate import quad\n",
    "import scipy as sp\n",
    "c = sp.constants.c # speed of light in SI\n",
    "h = sp.constants.h # plank constant in SI\n",
    "k = sp.constants.k # boltzmann constant in SI\n",
    "sigma = sp.constants.Stefan_Boltzmann # in SI\n",
    "# importing and setting our constants"
   ]
  },
  {
   "cell_type": "markdown",
   "id": "13a1f645",
   "metadata": {},
   "source": [
    "### Q3: Show that in eqn (5), the integration of B over ν can be written as:\n",
    "\n",
    "$B = \\frac{2hc^2\\nu^3}{e^{\\frac{hc\\nu}{kt}}-1} $   (1)\n",
    "\n",
    "$ W = \\pi \\int_{0}^{\\infty}Bd\\nu = C_1 \\int_{0}^{\\infty}\\frac{x^{3}}{e^x -1} dx$ (2)\n",
    "\n",
    "Answer:\n",
    "\n",
    "Let $x = \\frac{hc\\nu}{kt}$, the denomenator in (1) becomes:\n",
    "\n",
    "$B = \\frac{2hc^{2}\\nu^{3}}{e^{x}-1} $, now we just have to adjust the numerator!\n",
    "\n",
    "Rewriting again,\n",
    "\n",
    "$B = \\frac{C_1x^3}{e^x-1} = \\frac{2hc^{2}\\nu^{3}}{e^{x}-1} (?)$\n",
    " This is only true if we can show the numerators are equal!\n",
    " \n",
    "$x^{3} = (\\frac{hc\\nu}{kt})^{3} \\rightarrow \\frac{h^3c^3\\nu^3}{k^3t^3}$\n",
    "\n",
    "$ \\rightarrow  C_1 x^3 = C_1\\frac{h^3c^3\\nu^3}{k^3t^3}= 2hc^{2}\\nu^{3}$\n",
    "\n",
    "$\\rightarrow C_1 \\frac{h^3c^3\\nu^3}{k^3t^3} = 2hc^{2}\\nu^{3}$\n",
    "\n",
    "$C_1  = \\frac{2k^3t^3}{h^2c}$ \n",
    "For this choice of $C_1$ it works!"
   ]
  },
  {
   "cell_type": "markdown",
   "id": "ee4f8cce",
   "metadata": {},
   "source": [
    "### Part B\n",
    "Write a program to calculate the value for W given the temperature T. Explain\n",
    "the method used to integrate over the infinite range, and give an estimate for the\n",
    "accuracy of the method."
   ]
  },
  {
   "cell_type": "code",
   "execution_count": 77,
   "id": "0e15603f",
   "metadata": {},
   "outputs": [
    {
     "data": {
      "text/plain": [
       "15.154262241479259"
      ]
     },
     "execution_count": 77,
     "metadata": {},
     "output_type": "execute_result"
    }
   ],
   "source": []
  },
  {
   "cell_type": "code",
   "execution_count": 87,
   "id": "a7756199",
   "metadata": {},
   "outputs": [
    {
     "name": "stderr",
     "output_type": "stream",
     "text": [
      "/tmp/ipykernel_9550/1097256765.py:9: RuntimeWarning: overflow encountered in exp\n",
      "  return C_1 * x**3 / ( np.exp(x)-1)\n"
     ]
    }
   ],
   "source": [
    "# we shall use scipy's quad method \n",
    "\n",
    "\n",
    "# define f(x) the integrand \n",
    "def black_body_integrand(x, T=100):\n",
    "    C_1 = 2*(k * T)**3 /( h**2 *c )\n",
    "    #C_1 * x**3 / ( np.exp(x)-1)\n",
    "    #print(x)\n",
    "    return C_1 * x**3 / ( np.exp(x)-1)\n",
    "\n",
    "# integrate \n",
    "T=50000\n",
    "W = sp.integrate.quad(black_body_integrand, a=0, \n",
    "                     b=np.inf, args=(T))\n",
    "\n",
    "# wrapper\n",
    "\n"
   ]
  },
  {
   "cell_type": "code",
   "execution_count": null,
   "id": "2e1e00a6",
   "metadata": {
    "scrolled": false
   },
   "outputs": [
    {
     "name": "stderr",
     "output_type": "stream",
     "text": [
      "/tmp/ipykernel_9550/1097256765.py:9: RuntimeWarning: overflow encountered in exp\n",
      "  return C_1 * x**3 / ( np.exp(x)-1)\n"
     ]
    }
   ],
   "source": [
    "T_max = int(1e5)\n",
    "w_arr = np.empty(T_max)\n",
    "sigma_arr = np.empty(T_max)\n",
    "for i in range(1, T_max):\n",
    "    W = sp.integrate.quad(black_body_integrand, a=0, \n",
    "                     b=np.inf, args=(i))\n",
    "    w_arr[i] = W[0]\n",
    "    sigma_arr[i] = W[0] * i**-4"
   ]
  },
  {
   "cell_type": "code",
   "execution_count": 119,
   "id": "ec0ef32b",
   "metadata": {},
   "outputs": [
    {
     "data": {
      "text/plain": [
       "3.139729831074123e-14"
      ]
     },
     "execution_count": 119,
     "metadata": {},
     "output_type": "execute_result"
    }
   ],
   "source": [
    "np.mean(sigma_arr)"
   ]
  },
  {
   "cell_type": "code",
   "execution_count": null,
   "id": "6aad3eaf",
   "metadata": {},
   "outputs": [],
   "source": []
  },
  {
   "cell_type": "code",
   "execution_count": 106,
   "id": "c1df168b",
   "metadata": {},
   "outputs": [
    {
     "data": {
      "text/plain": [
       "5.670374419e-08"
      ]
     },
     "execution_count": 106,
     "metadata": {},
     "output_type": "execute_result"
    }
   ],
   "source": [
    "sigma"
   ]
  },
  {
   "cell_type": "code",
   "execution_count": 94,
   "id": "e7b89e86",
   "metadata": {},
   "outputs": [
    {
     "name": "stdout",
     "output_type": "stream",
     "text": [
      "W should be  566810660.9432184\n",
      "W is  259.61215294594075\n"
     ]
    }
   ],
   "source": [
    "# W should be \n",
    "print('W should be ', sigma * T**4)\n",
    "print('W is ', W[0])\n"
   ]
  },
  {
   "cell_type": "code",
   "execution_count": 46,
   "id": "15f9a32f",
   "metadata": {},
   "outputs": [
    {
     "name": "stdout",
     "output_type": "stream",
     "text": [
      "5.670374419e-08 \n",
      " (1.3329817349620558e-17, 5.189839584058696e-31)\n"
     ]
    }
   ],
   "source": [
    "print(sigma, '\\n', W)"
   ]
  },
  {
   "cell_type": "code",
   "execution_count": 47,
   "id": "4ccdb13c",
   "metadata": {},
   "outputs": [
    {
     "name": "stdout",
     "output_type": "stream",
     "text": [
      "1.3329817349620556e-29\n"
     ]
    }
   ],
   "source": [
    "# W = sigma T**4\n",
    "print( W[0]* T**-4)"
   ]
  },
  {
   "cell_type": "code",
   "execution_count": 18,
   "id": "f1bf3cee",
   "metadata": {},
   "outputs": [
    {
     "name": "stderr",
     "output_type": "stream",
     "text": [
      "/tmp/ipykernel_9550/4162932690.py:7: RuntimeWarning: invalid value encountered in true_divide\n",
      "  return C_1 * x**3 / ( np.e**x -1)\n"
     ]
    },
    {
     "data": {
      "text/plain": [
       "Text(0, 0.5, 'Magnitude')"
      ]
     },
     "execution_count": 18,
     "metadata": {},
     "output_type": "execute_result"
    },
    {
     "name": "stderr",
     "output_type": "stream",
     "text": [
      "/home/afinemax/anaconda3/lib/python3.9/site-packages/IPython/core/pylabtools.py:151: UserWarning: Glyph 12 (\f",
      ") missing from current font.\n",
      "  fig.canvas.print_figure(bytes_io, **kw)\n"
     ]
    },
    {
     "data": {
      "image/png": "[encoded data removed]",
      "text/plain": [
       "<Figure size 432x288 with 1 Axes>"
      ]
     },
     "metadata": {
      "needs_background": "light"
     },
     "output_type": "display_data"
    }
   ],
   "source": [
    "x_arr = np.arange(0, 100)\n",
    "y_arr1 = black_body_integrand(x_arr, T=100)\n",
    "y_arr2 = black_body_integrand(x_arr, T=500)\n",
    "y_arr3 = black_body_integrand(x_arr, T=1000)\n",
    "plt.plot(x_arr, y_arr1)\n",
    "plt.plot(x_arr, y_arr2)\n",
    "plt.plot(x_arr, y_arr3)\n",
    "plt.xlabel('$x = \\frac{hc\\nu}{kt}$')\n",
    "plt.ylabel('Magnitude')\n",
    "#plt.yscale('log')"
   ]
  },
  {
   "cell_type": "code",
   "execution_count": null,
   "id": "92b86616",
   "metadata": {},
   "outputs": [],
   "source": [
    "# estimation of stefan boltzman constant\\ "
   ]
  }
 ],
 "metadata": {
  "kernelspec": {
   "display_name": "Python 3 (ipykernel)",
   "language": "python",
   "name": "python3"
  },
  "language_info": {
   "codemirror_mode": {
    "name": "ipython",
    "version": 3
   },
   "file_extension": ".py",
   "mimetype": "text/x-python",
   "name": "python",
   "nbconvert_exporter": "python",
   "pygments_lexer": "ipython3",
   "version": "3.9.12"
  }
 },
 "nbformat": 4,
 "nbformat_minor": 5
}
