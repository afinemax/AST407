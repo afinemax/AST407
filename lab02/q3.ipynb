{
 "cells": [
  {
   "cell_type": "code",
   "execution_count": null,
   "id": "2d1da686",
   "metadata": {},
   "outputs": [],
   "source": []
  },
  {
   "cell_type": "code",
   "execution_count": 3,
   "id": "a8514bbd",
   "metadata": {},
   "outputs": [],
   "source": [
    "# imports\n",
    "import numpy as np\n",
    "import matplotlib.pyplot as plt\n",
    "from scipy.integrate import quad\n",
    "import scipy as sp\n",
    "c = sp.constants.c # speed of light in SI\n",
    "h = sp.constants.h # plank constant in SI\n",
    "k = sp.constants.k # boltzmann constant in SI\n",
    "sigma = sp.constants.Stefan_Boltzmann # in SI\n",
    "# importing and setting our constants"
   ]
  },
  {
   "cell_type": "markdown",
   "id": "13a1f645",
   "metadata": {},
   "source": [
    "### Q3: Show that in eqn (5), the integration of B over ν can be written as:\n",
    "\n",
    "$B = \\frac{2hc^2\\nu^3}{e^{\\frac{hc\\nu}{kt}}-1} $   (1)\n",
    "\n",
    "$ W = \\pi \\int_{0}^{\\infty}Bd\\nu = C_1 \\int_{0}^{\\infty}\\frac{x^{3}}{e^x -1} dx$ (2)\n",
    "\n",
    "Answer:\n",
    "\n",
    "Let $x = \\frac{hc\\nu}{kt}$, the denomenator in (1) becomes:\n",
    "\n",
    "$B = \\frac{2hc^{2}\\nu^{3}}{e^{x}-1} $, now we just have to adjust the numerator!\n",
    "\n",
    "Rewriting again,\n",
    "\n",
    "$B = \\frac{C_1x^3}{e^x-1} = \\frac{2hc^{2}\\nu^{3}}{e^{x}-1} (?)$\n",
    " This is only true if we can show the numerators are equal!\n",
    " \n",
    "$x^{3} = (\\frac{hc\\nu}{kt})^{3} \\rightarrow \\frac{h^3c^3\\nu^3}{k^3t^3}$\n",
    "\n",
    "$ \\rightarrow  C_1 x^3 = C_1\\frac{h^3c^3\\nu^3}{k^3t^3}= 2hc^{2}\\nu^{3}$\n",
    "\n",
    "$\\rightarrow C_1 \\frac{h^3c^3\\nu^3}{k^3t^3} = 2hc^{2}\\nu^{3}$\n",
    "\n",
    "$C_1  = \\frac{2k^3t^3}{h^2c}$ \n",
    "For this choice of $C_1$ it works!"
   ]
  },
  {
   "cell_type": "markdown",
   "id": "6f9ac4d4",
   "metadata": {},
   "source": [
    "### Part B\n",
    "Write a program to calculate the value for W given the temperature T. Explain\n",
    "the method used to integrate over the infinite range, and give an estimate for the\n",
    "accuracy of the method."
   ]
  },
  {
   "cell_type": "code",
   "execution_count": 4,
   "id": "c495fbca",
   "metadata": {},
   "outputs": [
    {
     "data": {
      "text/plain": [
       "'# pseudo code\\n\\n# import scipy, numpy\\n# import constants from scipy (in SI units)\\n\\n# write a function to calculate integrand (using the new integrand IE x)\\n    # Uses given T (in kelvin) to calculate a C_1 value\\n    # then returns value of integrand \\n    \\n# numerically integrate using scipy quad\\n    # from 0 to np.inf\\n    # answer and accuracy estimate is included in quad\\n    # print values\\n    \\n'"
      ]
     },
     "execution_count": 4,
     "metadata": {},
     "output_type": "execute_result"
    }
   ],
   "source": [
    "'''# pseudo code\n",
    "\n",
    "# import scipy, numpy\n",
    "# import constants from scipy (in SI units)\n",
    "\n",
    "# write a function to calculate integrand (using the new integrand IE x)\n",
    "    # Uses given T (in kelvin) to calculate a C_1 value\n",
    "    # then returns value of integrand \n",
    "    \n",
    "# numerically integrate using scipy quad\n",
    "    # from 0 to np.inf\n",
    "    # answer and accuracy estimate is included in quad\n",
    "    # print values\n",
    "    \n",
    "'''"
   ]
  },
  {
   "cell_type": "code",
   "execution_count": 28,
   "id": "291e530a",
   "metadata": {},
   "outputs": [
    {
     "name": "stderr",
     "output_type": "stream",
     "text": [
      "/tmp/ipykernel_7033/3474041872.py:12: RuntimeWarning: overflow encountered in exp\n",
      "  return C_1 * x**3 / ( np.exp(x)-1)\n"
     ]
    }
   ],
   "source": [
    "# we shall use scipy's quad method \n",
    "\n",
    "\n",
    "# define f(x) the integrand \n",
    "def black_body_integrand(x, T=100):\n",
    "   # C_1 = 2*(k**3  *T) /( h**2 *c )\n",
    "    #C_1 * x**3 / ( np.exp(x)-1)\n",
    "    #print(x)\n",
    "    \n",
    "    C_1 = 2 *np.pi* k**4 * T**4/ (h**3 *c **2)\n",
    "   \n",
    "    return C_1 * x**3 / ( np.exp(x)-1)\n",
    "\n",
    "# integrate \n",
    "T=5000\n",
    "W = sp.integrate.quad(black_body_integrand, a=0, \n",
    "                     b=np.inf, args=(T))\n",
    "\n",
    "# wrapper\n",
    "\n"
   ]
  },
  {
   "cell_type": "code",
   "execution_count": 29,
   "id": "89780420",
   "metadata": {},
   "outputs": [
    {
     "data": {
      "text/plain": [
       "0.9999999999674742"
      ]
     },
     "execution_count": 29,
     "metadata": {},
     "output_type": "execute_result"
    }
   ],
   "source": [
    "sigma / (W[0] *T**-4)"
   ]
  },
  {
   "cell_type": "code",
   "execution_count": 35,
   "id": "20f2f40b",
   "metadata": {},
   "outputs": [
    {
     "name": "stderr",
     "output_type": "stream",
     "text": [
      "/tmp/ipykernel_7033/3474041872.py:12: RuntimeWarning: overflow encountered in exp\n",
      "  return C_1 * x**3 / ( np.exp(x)-1)\n"
     ]
    }
   ],
   "source": [
    "# fracitonal error estimation\n",
    "T_arr = np.arange(0,10000)\n",
    "sigma_arr = np.empty(len(T_arr))\n",
    "frac_error_arr = np.empty(len(T_arr))\n",
    "\n",
    "for i in range(len(T_arr)):\n",
    "    W = sp.integrate.quad(black_body_integrand, a=0, \n",
    "                     b=np.inf, args=(T))\n",
    "    sigma_arr[i] = W[0] *T**-4\n",
    "    frac_error_arr[i] = W[1] / W[0]"
   ]
  },
  {
   "cell_type": "code",
   "execution_count": 36,
   "id": "b16dbb63",
   "metadata": {
    "scrolled": false
   },
   "outputs": [
    {
     "data": {
      "text/plain": [
       "5.670374419184433e-08"
      ]
     },
     "execution_count": 36,
     "metadata": {},
     "output_type": "execute_result"
    }
   ],
   "source": [
    "np.mean(sigma_arr)"
   ]
  },
  {
   "cell_type": "code",
   "execution_count": 37,
   "id": "379066fe",
   "metadata": {},
   "outputs": [
    {
     "data": {
      "text/plain": [
       "6.617444900424222e-24"
      ]
     },
     "execution_count": 37,
     "metadata": {},
     "output_type": "execute_result"
    }
   ],
   "source": [
    "np.std(sigma_arr)"
   ]
  },
  {
   "cell_type": "code",
   "execution_count": 40,
   "id": "b82ea085",
   "metadata": {},
   "outputs": [
    {
     "data": {
      "text/plain": [
       "2.2951266565892588e-17"
      ]
     },
     "execution_count": 40,
     "metadata": {},
     "output_type": "execute_result"
    }
   ],
   "source": [
    "np.mean(frac_error_arr)"
   ]
  },
  {
   "cell_type": "code",
   "execution_count": 39,
   "id": "09bb7a43",
   "metadata": {},
   "outputs": [
    {
     "data": {
      "text/plain": [
       "1.550963648536927e-25"
      ]
     },
     "execution_count": 39,
     "metadata": {},
     "output_type": "execute_result"
    }
   ],
   "source": [
    "np.std(frac_error_arr)"
   ]
  },
  {
   "cell_type": "code",
   "execution_count": 45,
   "id": "89443a75",
   "metadata": {},
   "outputs": [
    {
     "data": {
      "text/plain": [
       "[]"
      ]
     },
     "execution_count": 45,
     "metadata": {},
     "output_type": "execute_result"
    },
    {
     "data": {
      "image/png": "[encoded data removed]",
      "text/plain": [
       "<Figure size 432x288 with 1 Axes>"
      ]
     },
     "metadata": {
      "needs_background": "light"
     },
     "output_type": "display_data"
    }
   ],
   "source": [
    "plt.hist(sigma_arr, bins=int(np.sqrt(len(T_arr))))\n",
    "plt.loglog()"
   ]
  },
  {
   "cell_type": "code",
   "execution_count": 46,
   "id": "c7ab7852",
   "metadata": {},
   "outputs": [
    {
     "data": {
      "text/plain": [
       "0.014344541604149441"
      ]
     },
     "execution_count": 46,
     "metadata": {},
     "output_type": "execute_result"
    }
   ],
   "source": [
    "W[1]"
   ]
  },
  {
   "cell_type": "code",
   "execution_count": null,
   "id": "9ce1c933",
   "metadata": {},
   "outputs": [],
   "source": []
  },
  {
   "cell_type": "code",
   "execution_count": null,
   "id": "d7a966f8",
   "metadata": {},
   "outputs": [],
   "source": []
  },
  {
   "cell_type": "code",
   "execution_count": null,
   "id": "b513b036",
   "metadata": {},
   "outputs": [],
   "source": []
  }
 ],
 "metadata": {
  "kernelspec": {
   "display_name": "Python 3 (ipykernel)",
   "language": "python",
   "name": "python3"
  },
  "language_info": {
   "codemirror_mode": {
    "name": "ipython",
    "version": 3
   },
   "file_extension": ".py",
   "mimetype": "text/x-python",
   "name": "python",
   "nbconvert_exporter": "python",
   "pygments_lexer": "ipython3",
   "version": "3.9.12"
  }
 },
 "nbformat": 4,
 "nbformat_minor": 5
}
